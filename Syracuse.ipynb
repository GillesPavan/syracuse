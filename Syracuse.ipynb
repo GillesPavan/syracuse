{
  "nbformat": 4,
  "nbformat_minor": 0,
  "metadata": {
    "colab": {
      "provenance": [],
      "collapsed_sections": [],
      "authorship_tag": "ABX9TyMuLTIgs+ZIaDP8749Xsxwg",
      "include_colab_link": true
    },
    "kernelspec": {
      "name": "python3",
      "display_name": "Python 3"
    },
    "language_info": {
      "name": "python"
    }
  },
  "cells": [
    {
      "cell_type": "markdown",
      "metadata": {
        "id": "view-in-github",
        "colab_type": "text"
      },
      "source": [
        "<a href=\"https://colab.research.google.com/github/GillesPavan/syracuse/blob/main/Syracuse.ipynb\" target=\"_parent\"><img src=\"https://colab.research.google.com/assets/colab-badge.svg\" alt=\"Open In Colab\"/></a>"
      ]
    },
    {
      "cell_type": "code",
      "execution_count": null,
      "metadata": {
        "colab": {
          "base_uri": "https://localhost:8080/"
        },
        "id": "AV-s4xI92Ptl",
        "outputId": "c7fcda10-c053-4f9b-a1c9-4a52b05ad9d6"
      },
      "outputs": [
        {
          "output_type": "stream",
          "name": "stdout",
          "text": [
            "0\t11\t0b10000000001\n",
            "1\t10\t0b1100000001\n",
            "2\t10\t0b1001000001\n",
            "3\t9\t0b110110001\n",
            "4\t9\t0b101000101\n",
            "5\t6\t0b111101\n",
            "6\t5\t0b10111\n",
            "7\t6\t0b100011\n",
            "8\t6\t0b110101\n",
            "9\t3\t0b101\n",
            "10\t1\t0b1\n"
          ]
        }
      ],
      "source": [
        "x = 0b10000000001\n",
        "\n",
        "for n in range(0, 1000):\n",
        "\n",
        "  num = bin(x)\n",
        "  print(str(n) + \"\\t\" + str(len(num)-2) + \"\\t\" + num) \n",
        "\n",
        "  if x == 1:\n",
        "    break\n",
        "\n",
        "  if x & 1 != 0:  \n",
        "    x = x + (x << 1) + 1\n",
        "\n",
        "  # even numbers are \"removed\" from the sequence\n",
        "  while x & 1 == 0:\n",
        "    x = x >> 1"
      ]
    },
    {
      "cell_type": "markdown",
      "source": [
        "NB : le code calcule et affiche une suite extraite de la suite de Syracuse (termes impairs)\n",
        " \n",
        "Observations / conjectures :\n",
        "\n",
        "À chaque itération où le nombre de chiffres augmente (il peut augmenter au plus de 1), on a au moins un zéro qui apparaît juste à droite du chiffre de poids fort.\n",
        "\n",
        "Les zéros \"traversent\" presque complètement les chaînes de 1 de longueur au moins 2 :  \n",
        "Chaque zéro suivi de deux 1 se \"décale\" vers la droite (la preuve est évidente en posant l'addition) et lorsqu'un zéro arrive en avant-dernière position, à gauche du 1 final, on obtient un multiple d'une puissance de 2 d'exposant 2 ou plus à l'itération suivante. \n",
        "\n",
        "<div>\n",
        "<img src=\"https://ressources.cognitivesoft.fr/data/xr5tg6yh7uj/original_dc9bdb48-8e4a-4f0e-bf44-edfc20019046_IMG_20220929_084522.jpg\" width=\"100\"/>\n",
        "</div>\n",
        "\n",
        "Conséquence : le zéro le plus à droite se déplace à chaque itération, jusqu'à ce que l'on obtienne un multiple de 4.\n",
        "\n",
        "Anecdotique ?  \n",
        "\n",
        "100111111 \"converge\" plus vite que 111111 et 111111 à la même vitesse que 11111.  \n",
        "11111 \"passe par\" 100111111 \n",
        "\n",
        "Quand on a beaucoup de zéros \"intérieurs\" (itération 29 en partant de 11111), les chiffres de poids faible se comportent comme la suite avec un plus petit nombre de départ, les chiffres de poids fort un peu différemment et les deux groupes sont indépendants pendant \"quelques temps\"."
      ],
      "metadata": {
        "id": "7GiB8eb-thYH"
      }
    }
  ]
}