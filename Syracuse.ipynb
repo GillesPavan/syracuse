{
  "nbformat": 4,
  "nbformat_minor": 0,
  "metadata": {
    "colab": {
      "provenance": [],
      "collapsed_sections": [],
      "authorship_tag": "ABX9TyNu+IyvreR1WZ3iMCn2+S4E",
      "include_colab_link": true
    },
    "kernelspec": {
      "name": "python3",
      "display_name": "Python 3"
    },
    "language_info": {
      "name": "python"
    }
  },
  "cells": [
    {
      "cell_type": "markdown",
      "metadata": {
        "id": "view-in-github",
        "colab_type": "text"
      },
      "source": [
        "<a href=\"https://colab.research.google.com/github/GillesPavan/syracuse/blob/main/Syracuse.ipynb\" target=\"_parent\"><img src=\"https://colab.research.google.com/assets/colab-badge.svg\" alt=\"Open In Colab\"/></a>"
      ]
    },
    {
      "cell_type": "code",
      "execution_count": 1,
      "metadata": {
        "colab": {
          "base_uri": "https://localhost:8080/"
        },
        "id": "AV-s4xI92Ptl",
        "outputId": "c7fcda10-c053-4f9b-a1c9-4a52b05ad9d6"
      },
      "outputs": [
        {
          "output_type": "stream",
          "name": "stdout",
          "text": [
            "0\t11\t0b10000000001\n",
            "1\t10\t0b1100000001\n",
            "2\t10\t0b1001000001\n",
            "3\t9\t0b110110001\n",
            "4\t9\t0b101000101\n",
            "5\t6\t0b111101\n",
            "6\t5\t0b10111\n",
            "7\t6\t0b100011\n",
            "8\t6\t0b110101\n",
            "9\t3\t0b101\n",
            "10\t1\t0b1\n"
          ]
        }
      ],
      "source": [
        "x = 0b10000000001\n",
        "\n",
        "for n in range(0, 1000):\n",
        "\n",
        "  num = bin(x)\n",
        "  print(str(n) + \"\\t\" + str(len(num)-2) + \"\\t\" + num) \n",
        "\n",
        "  if x == 1:\n",
        "    break\n",
        "\n",
        "  if x & 1 != 0:  \n",
        "    x = x + (x << 1) + 1\n",
        "\n",
        "  # even numbers are \"removed\" from the sequence\n",
        "  while x & 1 == 0:\n",
        "    x = x >> 1"
      ]
    },
    {
      "cell_type": "markdown",
      "source": [
        "Observations / conjectures :  \n",
        "\n",
        "À chaque fois que le nombre de chiffres augmente (de 1), on a un ou deux zéros qui sont insérés aux rangs juste en dessous du poids fort.  \n",
        "Le dernier zéro se décale vers la droite à chaque itération et on finit par perdre 0 (si un chiffre de poids fort est ajouté au même moment), un ou plusieurs chiffres (multiple de 4 ou d'une plus grande puissance de 2) avec les divisions par 2.   \n",
        "Les 1 de poids fort font gagner des chiffres(mais aussi des zéros), les 1 de poids faible empêchent d'en perdre.\n",
        "\n",
        "Chaque zéro suivi de deux 1 se \"décale\" vers la droite (les zéros \"traversent\" les chaînes de 1) et lorsqu'il arrive en avant-dernière position on obtient une multiple d'une puissance de 2 d'exposant 2 ou plus.\n",
        "\n",
        "Anecdotique ?  \n",
        "\n",
        "que devient une chaîne de 1 après deux itérations ?\n",
        "passe-t-on toujours par une forme : chaîne de 1 chaîne de 0 chaîne de 1 ?\n",
        "\n",
        "100111111 \"converge\" plus vite que 111111 et 111111 à la même vitesse que 11111.  \n",
        "11111 \"passe par\" 100111111 \n",
        "\n",
        "Quand on a beaucoup de zéros \"intérieurs\" (itération 29 en partant de 11111), les chiffres de poids faible se comportent comme la suite avec un plus petit nombre de départ, les chiffres de poids fort un peu différemment et les deux groupes sont indépendants pendant \"quelques temps\".\n",
        "  \n",
        "\n"
      ],
      "metadata": {
        "id": "7GiB8eb-thYH"
      }
    }
  ]
}